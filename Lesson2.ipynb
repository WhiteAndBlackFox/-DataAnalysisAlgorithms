{
 "cells": [
  {
   "cell_type": "markdown",
   "metadata": {},
   "source": [
    "# Урок 2. Масштабирование признаков. L1- и L2-регуляризация. Стохастический градиентный спуск"
   ]
  },
  {
   "cell_type": "code",
   "execution_count": 17,
   "metadata": {},
   "outputs": [],
   "source": [
    "import numpy as np\n",
    "import matplotlib.pyplot as plt\n",
    "%matplotlib inline"
   ]
  },
  {
   "cell_type": "code",
   "execution_count": 4,
   "metadata": {},
   "outputs": [],
   "source": [
    "X = np.array([[1, 1, 1, 1, 1, 1, 1, 1, 1, 1],\n",
    "              [1, 1, 2, 1, 3, 0, 5, 10, 1, 2],\n",
    "              [500, 700, 750, 600, 1450, 800, 1500, 2000, 450, 1000],\n",
    "              [1, 1, 2, 1, 2, 1, 3, 3, 1, 2]])"
   ]
  },
  {
   "cell_type": "code",
   "execution_count": 5,
   "metadata": {},
   "outputs": [],
   "source": [
    "X_st = X.copy().astype(np.float64)"
   ]
  },
  {
   "cell_type": "code",
   "execution_count": 6,
   "metadata": {},
   "outputs": [],
   "source": [
    "y = [45, 55, 50, 59, 65, 35, 75, 80, 50, 60]"
   ]
  },
  {
   "cell_type": "code",
   "execution_count": 3,
   "metadata": {},
   "outputs": [],
   "source": [
    "def calc_std_feat(x):\n",
    "  return (x - x.mean()) / x.std()"
   ]
  },
  {
   "cell_type": "code",
   "execution_count": 7,
   "metadata": {},
   "outputs": [],
   "source": [
    "X_st[1] = calc_std_feat(X[1])\n",
    "X_st[2] = calc_std_feat(X[2])\n",
    "X_st[3] = calc_std_feat(X[3])"
   ]
  },
  {
   "cell_type": "markdown",
   "metadata": {},
   "source": [
    "## 1. Постройте график зависимости весов всех признаков от lambda в L2-регуляризации (на данных из урока)."
   ]
  },
  {
   "cell_type": "code",
   "execution_count": 14,
   "metadata": {},
   "outputs": [],
   "source": [
    "def calc_mse(y, y_pred):\n",
    "  return np.mean((y - y_pred)**2)"
   ]
  },
  {
   "cell_type": "code",
   "execution_count": 8,
   "metadata": {},
   "outputs": [],
   "source": [
    "def eval_model(X, y, W_, lambda_, alpha=1e-4):  \n",
    "  n = X.shape[1]\n",
    "  err_old = 0\n",
    "  err = 0\n",
    "  iterations = 0\n",
    "  while True:\n",
    "    y_pred = np.dot(W_, X)\n",
    "    err = calc_mse(y, y_pred)\n",
    "    W_ -= alpha * (1/n * 2 * np.dot((y_pred - y), X.T) + lambda_ * np.sum(W_**2))\n",
    "    \n",
    "    if np.abs(err_old - err) < 1e-3:\n",
    "        break\n",
    "    err_old = err\n",
    "    \n",
    "  print(err)\n",
    "  return W_"
   ]
  },
  {
   "cell_type": "code",
   "execution_count": 11,
   "metadata": {},
   "outputs": [
    {
     "name": "stdout",
     "output_type": "stream",
     "text": [
      "[ 0.45152895  0.06394657 -0.6326051   0.45503347]\n"
     ]
    }
   ],
   "source": [
    "W = np.random.randn(X.shape[0])\n",
    "print(W)"
   ]
  },
  {
   "cell_type": "code",
   "execution_count": 12,
   "metadata": {},
   "outputs": [
    {
     "name": "stdout",
     "output_type": "stream",
     "text": [
      "[1e-10, 1e-09, 1e-08, 1e-07, 1e-06, 1e-05, 0.0001, 0.001, 0.01, 0.1, 1]\n"
     ]
    }
   ],
   "source": [
    "_lambda_ = [10**x for x in range(-10, 1)]\n",
    "print(_lambda_)"
   ]
  },
  {
   "cell_type": "code",
   "execution_count": 16,
   "metadata": {},
   "outputs": [
    {
     "name": "stdout",
     "output_type": "stream",
     "text": [
      "42.63245629235679\n",
      "42.6324600947147\n",
      "42.632498118668224\n",
      "42.63287839538753\n",
      "42.635684969393836\n",
      "42.65807045353754\n",
      "42.91867029970014\n",
      "49.04786946480446\n",
      "286.5590617876762\n",
      "1541.2311694033406\n",
      "2677.2120244601465\n"
     ]
    },
    {
     "data": {
      "text/plain": [
       "[array([55.83264789,  4.67594725,  2.81653204,  4.15809279]),\n",
       " array([55.83264668,  4.67594674,  2.81653156,  4.15809227]),\n",
       " array([55.83263458,  4.67594169,  2.8165268 ,  4.15808713]),\n",
       " array([55.83251359,  4.67589116,  2.81647913,  4.15803568]),\n",
       " array([55.83161719,  4.67541751,  2.81597844,  4.15751416]),\n",
       " array([55.82452309,  4.67087151,  2.81082856,  4.15225745]),\n",
       " array([55.75100341,  4.62533031,  2.75957757,  4.09980567]),\n",
       " array([54.85516133,  4.17072548,  2.27336697,  3.59177353]),\n",
       " array([45.78102655,  0.86457133, -0.62531242,  0.42887999]),\n",
       " array([21.76918054, -1.1545522 , -2.03701454, -0.98732343]),\n",
       " array([ 7.96617668, -0.79322445, -1.54507657, -0.4730626 ])]"
      ]
     },
     "execution_count": 16,
     "metadata": {},
     "output_type": "execute_result"
    }
   ],
   "source": [
    "result_W = list()\n",
    "for i in range(len(_lambda_)):\n",
    "    result_W.append(eval_model(X_st, y, W_=W.copy(), lambda_=_lambda_[i]))\n",
    "result_W"
   ]
  },
  {
   "cell_type": "code",
   "execution_count": 18,
   "metadata": {},
   "outputs": [
    {
     "data": {
      "image/png": "[encoded data removed]",
      "text/plain": [
       "<Figure size 432x288 with 1 Axes>"
      ]
     },
     "metadata": {
      "needs_background": "light"
     },
     "output_type": "display_data"
    }
   ],
   "source": [
    "plt.xscale('log')\n",
    "for i in range(len(_lambda_)):\n",
    "    plt.plot(_lambda_, result_W, 'o-')\n",
    "plt.xlabel(\"lambda\")\n",
    "plt.ylabel(\"weight\")\n",
    "plt.legend([f'{i} weight' for i in range(1, 5)])\n",
    "plt.show()"
   ]
  },
  {
   "cell_type": "markdown",
   "metadata": {},
   "source": [
    "## 2. Можно ли к одному и тому же признаку применить сразу и нормализацию, и стандартизацию?"
   ]
  },
  {
   "cell_type": "markdown",
   "metadata": {},
   "source": [
    "Совмневаюсь, но скорей всего нет, поскольку нормализация предусматривает, что после неё дипазон значений признака будет лежать между 0 и 1, при этом данные будут избавлены от выбросов и будут нормально распределёнными. Стандартизация же предусматривает центрирование данных около 0, с дисперсией 1. По смыслу это совершенно разные операции."
   ]
  },
  {
   "cell_type": "markdown",
   "metadata": {},
   "source": [
    "## 3. Напишите функцию наподобие eval_model_reg2, но для применения L1-регуляризации."
   ]
  },
  {
   "cell_type": "code",
   "execution_count": 24,
   "metadata": {},
   "outputs": [],
   "source": [
    "def eval_model_reg2(X, y, iterations, alpha=1e-4, lambda_=1e-8):\n",
    "  np.random.seed(42)\n",
    "  W = np.random.randn(X.shape[0])\n",
    "  n = X.shape[1]\n",
    "  for i in range(1, iterations+1):\n",
    "    y_pred = np.dot(W, X)\n",
    "    err = calc_mse(y, y_pred)\n",
    "    W -= alpha * (1/n * 2 * np.dot((y_pred - y), X.T) + lambda_ * np.sum(np.abs(W))) \n",
    "    if i % (iterations / 10) == 0:\n",
    "      print(i, W, err)\n",
    "  return W"
   ]
  },
  {
   "cell_type": "code",
   "execution_count": 25,
   "metadata": {},
   "outputs": [
    {
     "name": "stdout",
     "output_type": "stream",
     "text": [
      "500 [57.39421461  5.10663418  2.45907135  4.08556683] 39.981634330741784\n",
      "1000 [57.39654719  5.7651832   1.85524989  4.03772303] 39.807177356149744\n",
      "1500 [57.39654712  5.99017002  1.60338947  4.06768097] 39.78237999088961\n",
      "2000 [57.39654705  6.07120951  1.49948638  4.09186747] 39.77852024042123\n",
      "2500 [57.39654702  6.10160748  1.45689459  4.10461565] 39.77789523101215\n",
      "3000 [57.39654701  6.11334122  1.43950076  4.11050505] 39.77779200885705\n",
      "3500 [57.396547    6.11795782  1.43241313  4.11307023] 39.777774641523635\n",
      "4000 [57.396547    6.11979656  1.42952888  4.11415421] 39.77777162084764\n",
      "4500 [57.396547    6.12053453  1.42835609  4.11460473] 39.77777105812502\n",
      "5000 [57.396547    6.12083211  1.42787943  4.1147902 ] 39.777770939032635\n"
     ]
    },
    {
     "data": {
      "text/plain": [
       "array([57.396547  ,  6.12083211,  1.42787943,  4.1147902 ])"
      ]
     },
     "execution_count": 25,
     "metadata": {},
     "output_type": "execute_result"
    }
   ],
   "source": [
    "eval_model_reg2(X_st, y, iterations=5000, alpha=1e-2, lambda_=1e-4)"
   ]
  },
  {
   "cell_type": "code",
   "execution_count": null,
   "metadata": {},
   "outputs": [],
   "source": []
  }
 ],
 "metadata": {
  "kernelspec": {
   "display_name": "Python 3",
   "language": "python",
   "name": "python3"
  },
  "language_info": {
   "codemirror_mode": {
    "name": "ipython",
    "version": 3
   },
   "file_extension": ".py",
   "mimetype": "text/x-python",
   "name": "python",
   "nbconvert_exporter": "python",
   "pygments_lexer": "ipython3",
   "version": "3.7.4"
  }
 },
 "nbformat": 4,
 "nbformat_minor": 2
}
